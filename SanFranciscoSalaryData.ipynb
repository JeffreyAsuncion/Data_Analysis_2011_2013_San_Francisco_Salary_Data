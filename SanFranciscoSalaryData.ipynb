{
 "cells": [
  {
   "cell_type": "code",
   "execution_count": 2,
   "metadata": {},
   "outputs": [],
   "source": [
    "import pandas as pd"
   ]
  },
  {
   "cell_type": "code",
   "execution_count": 3,
   "metadata": {},
   "outputs": [],
   "source": [
    "salaryDataFile = 'SanFranciscoSalaries2011-2013.csv'"
   ]
  },
  {
   "cell_type": "code",
   "execution_count": 4,
   "metadata": {},
   "outputs": [],
   "source": [
    "salaryData = pd.read_csv(salaryDataFile)"
   ]
  },
  {
   "cell_type": "code",
   "execution_count": 10,
   "metadata": {},
   "outputs": [
    {
     "data": {
      "text/html": [
       "<div>\n",
       "<style scoped>\n",
       "    .dataframe tbody tr th:only-of-type {\n",
       "        vertical-align: middle;\n",
       "    }\n",
       "\n",
       "    .dataframe tbody tr th {\n",
       "        vertical-align: top;\n",
       "    }\n",
       "\n",
       "    .dataframe thead th {\n",
       "        text-align: right;\n",
       "    }\n",
       "</style>\n",
       "<table border=\"1\" class=\"dataframe\">\n",
       "  <thead>\n",
       "    <tr style=\"text-align: right;\">\n",
       "      <th></th>\n",
       "      <th>Employee Name</th>\n",
       "      <th>Year</th>\n",
       "      <th>Employee ID</th>\n",
       "      <th>Job Title</th>\n",
       "      <th>Base Pay</th>\n",
       "      <th>Overtime Pay</th>\n",
       "      <th>Other Pay</th>\n",
       "    </tr>\n",
       "  </thead>\n",
       "  <tbody>\n",
       "    <tr>\n",
       "      <th>0</th>\n",
       "      <td>A Bernard Fatooh</td>\n",
       "      <td>2011</td>\n",
       "      <td>29354</td>\n",
       "      <td>Sheriff'S Property Keeper</td>\n",
       "      <td>19969.37</td>\n",
       "      <td>0.0</td>\n",
       "      <td>70.54</td>\n",
       "    </tr>\n",
       "    <tr>\n",
       "      <th>1</th>\n",
       "      <td>Aaric Pingree</td>\n",
       "      <td>2011</td>\n",
       "      <td>72817</td>\n",
       "      <td>Carpenter</td>\n",
       "      <td>0.00</td>\n",
       "      <td>0.0</td>\n",
       "      <td>100.00</td>\n",
       "    </tr>\n",
       "    <tr>\n",
       "      <th>2</th>\n",
       "      <td>Aarom Peverill</td>\n",
       "      <td>2013</td>\n",
       "      <td>34121</td>\n",
       "      <td>Public Service Aide-Special Programs</td>\n",
       "      <td>3202.14</td>\n",
       "      <td>0.0</td>\n",
       "      <td>64.19</td>\n",
       "    </tr>\n",
       "    <tr>\n",
       "      <th>3</th>\n",
       "      <td>Aaron  Obenyah</td>\n",
       "      <td>2012</td>\n",
       "      <td>105528</td>\n",
       "      <td>Publ Svc Aide-Asst To Prof</td>\n",
       "      <td>11577.00</td>\n",
       "      <td>0.0</td>\n",
       "      <td>0.00</td>\n",
       "    </tr>\n",
       "    <tr>\n",
       "      <th>4</th>\n",
       "      <td>Aaron  Richmond</td>\n",
       "      <td>2011</td>\n",
       "      <td>109147</td>\n",
       "      <td>Public Svc Aide-Public Works</td>\n",
       "      <td>2175.41</td>\n",
       "      <td>0.0</td>\n",
       "      <td>46.36</td>\n",
       "    </tr>\n",
       "  </tbody>\n",
       "</table>\n",
       "</div>"
      ],
      "text/plain": [
       "      Employee Name  Year  Employee ID                             Job Title  \\\n",
       "0  A Bernard Fatooh  2011        29354             Sheriff'S Property Keeper   \n",
       "1     Aaric Pingree  2011        72817                             Carpenter   \n",
       "2    Aarom Peverill  2013        34121  Public Service Aide-Special Programs   \n",
       "3    Aaron  Obenyah  2012       105528            Publ Svc Aide-Asst To Prof   \n",
       "4   Aaron  Richmond  2011       109147          Public Svc Aide-Public Works   \n",
       "\n",
       "   Base Pay  Overtime Pay  Other Pay  \n",
       "0  19969.37           0.0      70.54  \n",
       "1      0.00           0.0     100.00  \n",
       "2   3202.14           0.0      64.19  \n",
       "3  11577.00           0.0       0.00  \n",
       "4   2175.41           0.0      46.36  "
      ]
     },
     "execution_count": 10,
     "metadata": {},
     "output_type": "execute_result"
    }
   ],
   "source": [
    "salaryData.head()"
   ]
  },
  {
   "cell_type": "code",
   "execution_count": 6,
   "metadata": {},
   "outputs": [
    {
     "data": {
      "text/plain": [
       "(24285, 7)"
      ]
     },
     "execution_count": 6,
     "metadata": {},
     "output_type": "execute_result"
    }
   ],
   "source": [
    "salaryData.shape"
   ]
  },
  {
   "cell_type": "code",
   "execution_count": 7,
   "metadata": {},
   "outputs": [
    {
     "name": "stdout",
     "output_type": "stream",
     "text": [
      "<class 'pandas.core.frame.DataFrame'>\n",
      "RangeIndex: 24285 entries, 0 to 24284\n",
      "Data columns (total 7 columns):\n",
      " #   Column         Non-Null Count  Dtype  \n",
      "---  ------         --------------  -----  \n",
      " 0   Employee Name  24285 non-null  object \n",
      " 1   Year           24285 non-null  int64  \n",
      " 2   Employee ID    24285 non-null  int64  \n",
      " 3   Job Title      24285 non-null  object \n",
      " 4   Base Pay       24285 non-null  float64\n",
      " 5   Overtime Pay   24285 non-null  float64\n",
      " 6   Other Pay      24285 non-null  float64\n",
      "dtypes: float64(3), int64(2), object(2)\n",
      "memory usage: 1.3+ MB\n"
     ]
    }
   ],
   "source": [
    "salaryData.info()"
   ]
  },
  {
   "cell_type": "code",
   "execution_count": 8,
   "metadata": {},
   "outputs": [
    {
     "data": {
      "text/html": [
       "<div>\n",
       "<style scoped>\n",
       "    .dataframe tbody tr th:only-of-type {\n",
       "        vertical-align: middle;\n",
       "    }\n",
       "\n",
       "    .dataframe tbody tr th {\n",
       "        vertical-align: top;\n",
       "    }\n",
       "\n",
       "    .dataframe thead th {\n",
       "        text-align: right;\n",
       "    }\n",
       "</style>\n",
       "<table border=\"1\" class=\"dataframe\">\n",
       "  <thead>\n",
       "    <tr style=\"text-align: right;\">\n",
       "      <th></th>\n",
       "      <th>Year</th>\n",
       "      <th>Employee ID</th>\n",
       "      <th>Base Pay</th>\n",
       "      <th>Overtime Pay</th>\n",
       "      <th>Other Pay</th>\n",
       "    </tr>\n",
       "  </thead>\n",
       "  <tbody>\n",
       "    <tr>\n",
       "      <th>count</th>\n",
       "      <td>24285.000000</td>\n",
       "      <td>24285.000000</td>\n",
       "      <td>24285.000000</td>\n",
       "      <td>24285.000000</td>\n",
       "      <td>24285.000000</td>\n",
       "    </tr>\n",
       "    <tr>\n",
       "      <th>mean</th>\n",
       "      <td>2012.010047</td>\n",
       "      <td>55309.756763</td>\n",
       "      <td>66061.492854</td>\n",
       "      <td>5036.355495</td>\n",
       "      <td>3725.260765</td>\n",
       "    </tr>\n",
       "    <tr>\n",
       "      <th>std</th>\n",
       "      <td>0.815644</td>\n",
       "      <td>32100.247256</td>\n",
       "      <td>42680.036186</td>\n",
       "      <td>11517.994545</td>\n",
       "      <td>8029.425852</td>\n",
       "    </tr>\n",
       "    <tr>\n",
       "      <th>min</th>\n",
       "      <td>2011.000000</td>\n",
       "      <td>7.000000</td>\n",
       "      <td>0.000000</td>\n",
       "      <td>0.000000</td>\n",
       "      <td>0.000000</td>\n",
       "    </tr>\n",
       "    <tr>\n",
       "      <th>25%</th>\n",
       "      <td>2011.000000</td>\n",
       "      <td>27390.000000</td>\n",
       "      <td>33114.520000</td>\n",
       "      <td>0.000000</td>\n",
       "      <td>0.000000</td>\n",
       "    </tr>\n",
       "    <tr>\n",
       "      <th>50%</th>\n",
       "      <td>2012.000000</td>\n",
       "      <td>55440.000000</td>\n",
       "      <td>64796.970000</td>\n",
       "      <td>0.000000</td>\n",
       "      <td>853.790000</td>\n",
       "    </tr>\n",
       "    <tr>\n",
       "      <th>75%</th>\n",
       "      <td>2013.000000</td>\n",
       "      <td>83139.000000</td>\n",
       "      <td>95015.860000</td>\n",
       "      <td>4657.550000</td>\n",
       "      <td>4312.110000</td>\n",
       "    </tr>\n",
       "    <tr>\n",
       "      <th>max</th>\n",
       "      <td>2013.000000</td>\n",
       "      <td>110529.000000</td>\n",
       "      <td>274126.500000</td>\n",
       "      <td>220909.480000</td>\n",
       "      <td>183112.410000</td>\n",
       "    </tr>\n",
       "  </tbody>\n",
       "</table>\n",
       "</div>"
      ],
      "text/plain": [
       "               Year    Employee ID       Base Pay   Overtime Pay  \\\n",
       "count  24285.000000   24285.000000   24285.000000   24285.000000   \n",
       "mean    2012.010047   55309.756763   66061.492854    5036.355495   \n",
       "std        0.815644   32100.247256   42680.036186   11517.994545   \n",
       "min     2011.000000       7.000000       0.000000       0.000000   \n",
       "25%     2011.000000   27390.000000   33114.520000       0.000000   \n",
       "50%     2012.000000   55440.000000   64796.970000       0.000000   \n",
       "75%     2013.000000   83139.000000   95015.860000    4657.550000   \n",
       "max     2013.000000  110529.000000  274126.500000  220909.480000   \n",
       "\n",
       "           Other Pay  \n",
       "count   24285.000000  \n",
       "mean     3725.260765  \n",
       "std      8029.425852  \n",
       "min         0.000000  \n",
       "25%         0.000000  \n",
       "50%       853.790000  \n",
       "75%      4312.110000  \n",
       "max    183112.410000  "
      ]
     },
     "execution_count": 8,
     "metadata": {},
     "output_type": "execute_result"
    }
   ],
   "source": [
    "salaryData.describe()"
   ]
  },
  {
   "cell_type": "code",
   "execution_count": null,
   "metadata": {},
   "outputs": [],
   "source": []
  }
 ],
 "metadata": {
  "kernelspec": {
   "display_name": "Python 3",
   "language": "python",
   "name": "python3"
  },
  "language_info": {
   "codemirror_mode": {
    "name": "ipython",
    "version": 3
   },
   "file_extension": ".py",
   "mimetype": "text/x-python",
   "name": "python",
   "nbconvert_exporter": "python",
   "pygments_lexer": "ipython3",
   "version": "3.8.10"
  },
  "orig_nbformat": 4
 },
 "nbformat": 4,
 "nbformat_minor": 2
}
